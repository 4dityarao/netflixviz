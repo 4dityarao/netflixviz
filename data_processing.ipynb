{
 "cells": [
  {
   "cell_type": "code",
   "execution_count": 1,
   "metadata": {},
   "outputs": [],
   "source": [
    "from datetime import datetime\n",
    "import os\n",
    "import random\n",
    "import matplotlib\n",
    "import pandas as pd\n",
    "import numpy as np\n",
    "import regex"
   ]
  },
  {
   "cell_type": "code",
   "execution_count": 2,
   "metadata": {},
   "outputs": [],
   "source": [
    "# start = datetime.now()\n",
    "# if not os.path.isfile('data.csv'):\n",
    "#     #read all txt file and store them in one big file\n",
    "#     data = open('data.csv', mode='w')\n",
    "    \n",
    "#     row = list()\n",
    "#     files = ['input/combined_data_1.txt', 'input/combined_data_2.txt',\n",
    "#             'input/combined_data_3.txt', 'input/combined_data_4.txt']\n",
    "#     for file in files:\n",
    "#         print('reading ratings from {}...'.format(file))\n",
    "#         with open(file) as f:\n",
    "#             for line in f:\n",
    "#                 del row[:]\n",
    "#                 line = line.strip()\n",
    "#                 if line.endswith(':'):\n",
    "#                     #all are rating\n",
    "#                     movid_id = line.replace(':', '')\n",
    "#                 else:\n",
    "#                     row = [x for x in line.split(',')]\n",
    "#                     row.insert(0, movid_id)\n",
    "#                     data.write(','.join(row))\n",
    "#                     data.write('\\n')\n",
    "#         print('Done.\\n')\n",
    "#     data.close()\n",
    "# print('time taken:', datetime.now() - start)"
   ]
  },
  {
   "cell_type": "code",
   "execution_count": 3,
   "metadata": {},
   "outputs": [],
   "source": [
    "df = pd.read_csv(\"data.csv\")"
   ]
  },
  {
   "cell_type": "code",
   "execution_count": 22,
   "metadata": {},
   "outputs": [],
   "source": [
    "df_movie_titles = pd.read_csv(\"input/movie_titles.csv\", encoding='ISO-8859-1',names=['movie_id', 'year_of_release'],usecols=range(2))"
   ]
  },
  {
   "cell_type": "code",
   "execution_count": 23,
   "metadata": {},
   "outputs": [
    {
     "data": {
      "text/html": [
       "<div>\n",
       "<style scoped>\n",
       "    .dataframe tbody tr th:only-of-type {\n",
       "        vertical-align: middle;\n",
       "    }\n",
       "\n",
       "    .dataframe tbody tr th {\n",
       "        vertical-align: top;\n",
       "    }\n",
       "\n",
       "    .dataframe thead th {\n",
       "        text-align: right;\n",
       "    }\n",
       "</style>\n",
       "<table border=\"1\" class=\"dataframe\">\n",
       "  <thead>\n",
       "    <tr style=\"text-align: right;\">\n",
       "      <th></th>\n",
       "      <th>movie_id</th>\n",
       "      <th>year_of_release</th>\n",
       "    </tr>\n",
       "  </thead>\n",
       "  <tbody>\n",
       "    <tr>\n",
       "      <th>0</th>\n",
       "      <td>1</td>\n",
       "      <td>2003.0</td>\n",
       "    </tr>\n",
       "    <tr>\n",
       "      <th>1</th>\n",
       "      <td>2</td>\n",
       "      <td>2004.0</td>\n",
       "    </tr>\n",
       "    <tr>\n",
       "      <th>2</th>\n",
       "      <td>3</td>\n",
       "      <td>1997.0</td>\n",
       "    </tr>\n",
       "    <tr>\n",
       "      <th>3</th>\n",
       "      <td>4</td>\n",
       "      <td>1994.0</td>\n",
       "    </tr>\n",
       "    <tr>\n",
       "      <th>4</th>\n",
       "      <td>5</td>\n",
       "      <td>2004.0</td>\n",
       "    </tr>\n",
       "    <tr>\n",
       "      <th>...</th>\n",
       "      <td>...</td>\n",
       "      <td>...</td>\n",
       "    </tr>\n",
       "    <tr>\n",
       "      <th>17765</th>\n",
       "      <td>17766</td>\n",
       "      <td>2002.0</td>\n",
       "    </tr>\n",
       "    <tr>\n",
       "      <th>17766</th>\n",
       "      <td>17767</td>\n",
       "      <td>2004.0</td>\n",
       "    </tr>\n",
       "    <tr>\n",
       "      <th>17767</th>\n",
       "      <td>17768</td>\n",
       "      <td>2000.0</td>\n",
       "    </tr>\n",
       "    <tr>\n",
       "      <th>17768</th>\n",
       "      <td>17769</td>\n",
       "      <td>2003.0</td>\n",
       "    </tr>\n",
       "    <tr>\n",
       "      <th>17769</th>\n",
       "      <td>17770</td>\n",
       "      <td>2003.0</td>\n",
       "    </tr>\n",
       "  </tbody>\n",
       "</table>\n",
       "<p>17770 rows × 2 columns</p>\n",
       "</div>"
      ],
      "text/plain": [
       "       movie_id  year_of_release\n",
       "0             1           2003.0\n",
       "1             2           2004.0\n",
       "2             3           1997.0\n",
       "3             4           1994.0\n",
       "4             5           2004.0\n",
       "...         ...              ...\n",
       "17765     17766           2002.0\n",
       "17766     17767           2004.0\n",
       "17767     17768           2000.0\n",
       "17768     17769           2003.0\n",
       "17769     17770           2003.0\n",
       "\n",
       "[17770 rows x 2 columns]"
      ]
     },
     "execution_count": 23,
     "metadata": {},
     "output_type": "execute_result"
    }
   ],
   "source": [
    "df_movie_titles"
   ]
  },
  {
   "cell_type": "code",
   "execution_count": 24,
   "metadata": {},
   "outputs": [],
   "source": [
    "df_titles = pd.read_csv(\"input/movie_titles_only.csv\",quotechar='\"', header = None)"
   ]
  },
  {
   "cell_type": "code",
   "execution_count": 25,
   "metadata": {},
   "outputs": [],
   "source": [
    "df_movie_titles[\"title\"] = df_titles[0]"
   ]
  },
  {
   "cell_type": "code",
   "execution_count": null,
   "metadata": {},
   "outputs": [],
   "source": [
    "df_movie_titles.to_csv(\"combined_data.csv\",index = False)"
   ]
  }
 ],
 "metadata": {
  "kernelspec": {
   "display_name": "Python 3",
   "language": "python",
   "name": "python3"
  },
  "language_info": {
   "codemirror_mode": {
    "name": "ipython",
    "version": 3
   },
   "file_extension": ".py",
   "mimetype": "text/x-python",
   "name": "python",
   "nbconvert_exporter": "python",
   "pygments_lexer": "ipython3",
   "version": "3.7.0"
  },
  "orig_nbformat": 4,
  "vscode": {
   "interpreter": {
    "hash": "c548c4d28cac69e4b724820f1ba9632bab5d8cdda536691dd92cd5bd0e2afc3d"
   }
  }
 },
 "nbformat": 4,
 "nbformat_minor": 2
}

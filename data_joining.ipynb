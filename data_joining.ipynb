{
 "cells": [
  {
   "cell_type": "code",
   "execution_count": 1,
   "metadata": {},
   "outputs": [],
   "source": [
    "import pandas as pd\n",
    "import json"
   ]
  },
  {
   "cell_type": "code",
   "execution_count": 2,
   "metadata": {},
   "outputs": [],
   "source": [
    "\n",
    "#movie_df = pd.read_csv(\"input/combined_data.csv\")\n",
    "rating_df = pd.read_csv(\"data.csv\", names=[\"movie_id\",\"user_id\",\"rating\",\"date\"])\n",
    "rating_df.groupby(by  = \"user_id\")[\"movie_id\"].count().sort_values()\n",
    "len(rating_df[rating_df[\"user_id\"]==305344][\"movie_id\"].unique())\n",
    "rating_df[\"user_id\"].dtype\n",
    "sorted_movie_ids = rating_df.movie_id.value_counts().index.to_list()\n",
    "poc_ids = sorted_movie_ids[5000:5010]\n",
    "sample_df = rating_df[rating_df.movie_id.isin(poc_ids)]\n",
    "sample_df\n",
    "len(sample_df[\"user_id\"].unique())\n",
    "sample_df.to_csv(\"input/poc_data.csv\",index = False)\n",
    "sample_df_links_only = sample_df[[\"movie_id\",\"user_id\"]]"
   ]
  },
  {
   "cell_type": "code",
   "execution_count": 57,
   "metadata": {},
   "outputs": [],
   "source": [
    "def make_graph_data(df:pd.DataFrame):\n",
    "    movie_df = pd.DataFrame(columns=[\"id\",\"group\"])\n",
    "    user_df = pd.DataFrame(columns=[\"id\",\"group\"])\n",
    "    movie_df[\"id\"] = df[\"movie_id\"].unique()\n",
    "    movie_df[\"group\"] = 1\n",
    "    user_df[\"id\"] = df[\"user_id\"].unique()\n",
    "    user_df[\"group\"] = 2\n",
    "    nodes_df=  pd.concat([user_df,movie_df])\n",
    "    del(movie_df)\n",
    "    del(user_df)\n",
    "    link_df = df[[\"movie_id\",\"user_id\",\"rating\"]].rename(columns={\"movie_id\":\"target\",\"user_id\":\"source\",\"rating\": \"value\"}).drop_duplicates(subset = [\"source\",\"target\"])\n",
    "    #consolidated_df = pd.DataFrame(columns=[\"nodes\",\"links\"])\n",
    "    print(nodes_df.group.unique())\n",
    "    consolidated_dict = {\"nodes\":nodes_df.to_dict(orient=\"records\"),\"links\":link_df.to_dict(orient=\"records\")}\n",
    "    return consolidated_dict"
   ]
  },
  {
   "cell_type": "code",
   "execution_count": 58,
   "metadata": {},
   "outputs": [
    {
     "data": {
      "text/html": [
       "<div>\n",
       "<style scoped>\n",
       "    .dataframe tbody tr th:only-of-type {\n",
       "        vertical-align: middle;\n",
       "    }\n",
       "\n",
       "    .dataframe tbody tr th {\n",
       "        vertical-align: top;\n",
       "    }\n",
       "\n",
       "    .dataframe thead th {\n",
       "        text-align: right;\n",
       "    }\n",
       "</style>\n",
       "<table border=\"1\" class=\"dataframe\">\n",
       "  <thead>\n",
       "    <tr style=\"text-align: right;\">\n",
       "      <th></th>\n",
       "      <th>movie_id</th>\n",
       "      <th>user_id</th>\n",
       "      <th>rating</th>\n",
       "      <th>date</th>\n",
       "    </tr>\n",
       "  </thead>\n",
       "  <tbody>\n",
       "    <tr>\n",
       "      <th>0</th>\n",
       "      <td>239</td>\n",
       "      <td>589931</td>\n",
       "      <td>5</td>\n",
       "      <td>2004-04-01</td>\n",
       "    </tr>\n",
       "    <tr>\n",
       "      <th>1</th>\n",
       "      <td>239</td>\n",
       "      <td>488477</td>\n",
       "      <td>4</td>\n",
       "      <td>2004-09-16</td>\n",
       "    </tr>\n",
       "    <tr>\n",
       "      <th>2</th>\n",
       "      <td>239</td>\n",
       "      <td>501780</td>\n",
       "      <td>4</td>\n",
       "      <td>2004-10-05</td>\n",
       "    </tr>\n",
       "    <tr>\n",
       "      <th>3</th>\n",
       "      <td>239</td>\n",
       "      <td>1576388</td>\n",
       "      <td>3</td>\n",
       "      <td>2004-11-29</td>\n",
       "    </tr>\n",
       "    <tr>\n",
       "      <th>4</th>\n",
       "      <td>239</td>\n",
       "      <td>1357960</td>\n",
       "      <td>4</td>\n",
       "      <td>2005-02-05</td>\n",
       "    </tr>\n",
       "    <tr>\n",
       "      <th>...</th>\n",
       "      <td>...</td>\n",
       "      <td>...</td>\n",
       "      <td>...</td>\n",
       "      <td>...</td>\n",
       "    </tr>\n",
       "    <tr>\n",
       "      <th>21919</th>\n",
       "      <td>16870</td>\n",
       "      <td>1704416</td>\n",
       "      <td>3</td>\n",
       "      <td>2005-06-20</td>\n",
       "    </tr>\n",
       "    <tr>\n",
       "      <th>21920</th>\n",
       "      <td>16870</td>\n",
       "      <td>15737</td>\n",
       "      <td>4</td>\n",
       "      <td>2005-06-30</td>\n",
       "    </tr>\n",
       "    <tr>\n",
       "      <th>21921</th>\n",
       "      <td>16870</td>\n",
       "      <td>402619</td>\n",
       "      <td>4</td>\n",
       "      <td>2005-09-29</td>\n",
       "    </tr>\n",
       "    <tr>\n",
       "      <th>21922</th>\n",
       "      <td>16870</td>\n",
       "      <td>2090969</td>\n",
       "      <td>4</td>\n",
       "      <td>2005-10-23</td>\n",
       "    </tr>\n",
       "    <tr>\n",
       "      <th>21923</th>\n",
       "      <td>16870</td>\n",
       "      <td>2281042</td>\n",
       "      <td>3</td>\n",
       "      <td>2005-11-03</td>\n",
       "    </tr>\n",
       "  </tbody>\n",
       "</table>\n",
       "<p>21924 rows × 4 columns</p>\n",
       "</div>"
      ],
      "text/plain": [
       "       movie_id  user_id  rating        date\n",
       "0           239   589931       5  2004-04-01\n",
       "1           239   488477       4  2004-09-16\n",
       "2           239   501780       4  2004-10-05\n",
       "3           239  1576388       3  2004-11-29\n",
       "4           239  1357960       4  2005-02-05\n",
       "...         ...      ...     ...         ...\n",
       "21919     16870  1704416       3  2005-06-20\n",
       "21920     16870    15737       4  2005-06-30\n",
       "21921     16870   402619       4  2005-09-29\n",
       "21922     16870  2090969       4  2005-10-23\n",
       "21923     16870  2281042       3  2005-11-03\n",
       "\n",
       "[21924 rows x 4 columns]"
      ]
     },
     "execution_count": 58,
     "metadata": {},
     "output_type": "execute_result"
    }
   ],
   "source": [
    "sample_data = pd.read_csv(\"input/poc_data.csv\")\n",
    "sample_data"
   ]
  },
  {
   "cell_type": "code",
   "execution_count": 59,
   "metadata": {},
   "outputs": [
    {
     "name": "stdout",
     "output_type": "stream",
     "text": [
      "[2 1]\n"
     ]
    }
   ],
   "source": [
    "result = make_graph_data(sample_data)\n",
    "\n"
   ]
  },
  {
   "cell_type": "code",
   "execution_count": 60,
   "metadata": {},
   "outputs": [
    {
     "data": {
      "text/plain": [
       "19049"
      ]
     },
     "execution_count": 60,
     "metadata": {},
     "output_type": "execute_result"
    }
   ],
   "source": [
    "len(result[\"nodes\"])"
   ]
  },
  {
   "cell_type": "code",
   "execution_count": 61,
   "metadata": {},
   "outputs": [],
   "source": [
    "json.dump(result,open(\"netflix_viz/src/assets/graph_data_poc.json\",\"w\") ,indent = 4)"
   ]
  },
  {
   "cell_type": "code",
   "execution_count": 39,
   "metadata": {},
   "outputs": [],
   "source": [
    "x = json.load(open(\"src/assets/graph_data_poc.json\"))"
   ]
  },
  {
   "cell_type": "code",
   "execution_count": 45,
   "metadata": {},
   "outputs": [
    {
     "data": {
      "text/plain": [
       "21924"
      ]
     },
     "execution_count": 45,
     "metadata": {},
     "output_type": "execute_result"
    }
   ],
   "source": [
    "len(x[\"links\"])"
   ]
  },
  {
   "cell_type": "code",
   "execution_count": null,
   "metadata": {},
   "outputs": [],
   "source": []
  }
 ],
 "metadata": {
  "kernelspec": {
   "display_name": "Python 3",
   "language": "python",
   "name": "python3"
  },
  "language_info": {
   "codemirror_mode": {
    "name": "ipython",
    "version": 3
   },
   "file_extension": ".py",
   "mimetype": "text/x-python",
   "name": "python",
   "nbconvert_exporter": "python",
   "pygments_lexer": "ipython3",
   "version": "3.7.0"
  },
  "orig_nbformat": 4,
  "vscode": {
   "interpreter": {
    "hash": "c548c4d28cac69e4b724820f1ba9632bab5d8cdda536691dd92cd5bd0e2afc3d"
   }
  }
 },
 "nbformat": 4,
 "nbformat_minor": 2
}
